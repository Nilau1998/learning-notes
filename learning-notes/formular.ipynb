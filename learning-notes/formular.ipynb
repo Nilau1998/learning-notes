{
 "cells": [
  {
   "cell_type": "markdown",
   "metadata": {},
   "source": [
    "# Formular Estimator\n",
    "\n",
    "The Formular Estimator is a powerful tool used in statistical analysis to estimate the relationship between variables. It is commonly used in regression analysis to determine the coefficients of a mathematical formula that best fits the data.\n",
    "In this Jupyter Notebook, we will explore the implementation of an easy example. \n",
    "\n",
    "Let's get started!"
   ]
  },
  {
   "cell_type": "code",
   "execution_count": null,
   "metadata": {},
   "outputs": [],
   "source": [
    "import numpy as np\n",
    "import math\n",
    "import matplotlib.pyplot as plt"
   ]
  },
  {
   "cell_type": "markdown",
   "metadata": {},
   "source": [
    "First, we start by creating our target function: a sine curve."
   ]
  },
  {
   "cell_type": "code",
   "execution_count": null,
   "metadata": {},
   "outputs": [],
   "source": [
    "x = np.linspace(-math.pi, math.pi, 2000)\n",
    "t = np.sin(x) # t for target\n",
    "plt.plot(x,t)"
   ]
  },
  {
   "cell_type": "markdown",
   "metadata": {},
   "source": [
    "Let's assume, we don't know that this is a sine wave. We now roughly what we need, in this case we need a formula of third degree."
   ]
  },
  {
   "cell_type": "code",
   "execution_count": null,
   "metadata": {},
   "outputs": [],
   "source": [
    "a = np.random.randn()\n",
    "b = np.random.randn()\n",
    "c = np.random.randn()\n",
    "d = np.random.randn()\n",
    "\n",
    "def sine(x):\n",
    "    return a + b*x + c*x**2 + d*x**3"
   ]
  },
  {
   "cell_type": "code",
   "execution_count": null,
   "metadata": {},
   "outputs": [],
   "source": [
    "plt.plot(sine(x))"
   ]
  },
  {
   "cell_type": "markdown",
   "metadata": {},
   "source": [
    "## Error Correction\n",
    "\n",
    "Right now, our plot doesn't look like the sine wave we want. This is because all the weights in our network are set randomly at the start.\n",
    "\n",
    "But don't worry, we can fix this! We're going to adjust these weights little by little to make our network's output look more like a sine wave. This process is called \"training\".\n",
    "\n",
    "Think of it like tuning a guitar. When you first pick up a guitar, the strings might not be in tune. So, you pluck a string, listen to how it sounds, and then adjust the tuning peg a little bit. You keep doing this - pluck the string, listen, adjust - until the string sounds just right. That's what we're doing with our network: we're \"listening\" to how far off its output is from a sine wave (this is the error), and then we're \"adjusting\" the weights to make it sound better.\n",
    "\n",
    "We're lucky because we know what a sine wave looks like, so we know what we're aiming for. We just need to keep adjusting our weights until we get there. This is the essence of training a neural network."
   ]
  },
  {
   "cell_type": "code",
   "execution_count": null,
   "metadata": {},
   "outputs": [],
   "source": [
    "learning_rate = 1e-3\n",
    "errors = []\n",
    "for _ in range(2000):\n",
    "    y = sine(x)\n",
    "    error = ((y - t)**2).mean()\n",
    "    dLoss = 2.0 * (y - t)\n",
    "    a -= learning_rate * dLoss.mean()\n",
    "    b -= learning_rate * (dLoss * x).mean()\n",
    "    c -= learning_rate * (dLoss * x ** 2).mean()\n",
    "    d -= learning_rate * (dLoss * x ** 3).mean()\n",
    "\n",
    "    errors.append(error)\n"
   ]
  },
  {
   "cell_type": "code",
   "execution_count": null,
   "metadata": {},
   "outputs": [],
   "source": [
    "fig, axs = plt.subplots(1,3, figsize=(15, 5))\n",
    "axs[0].set_title('Target Sine')\n",
    "axs[0].plot(t)\n",
    "axs[1].set_title('Estimated Sine')\n",
    "axs[1].plot(sine(x))\n",
    "axs[2].set_title('Error over Time')\n",
    "axs[2].plot(errors)\n",
    "print(f'Result: y = {a} + {b} x + {c} x^2 + {d} x^3')"
   ]
  }
 ],
 "metadata": {
  "kernelspec": {
   "display_name": "torch",
   "language": "python",
   "name": "python3"
  },
  "language_info": {
   "codemirror_mode": {
    "name": "ipython",
    "version": 3
   },
   "file_extension": ".py",
   "mimetype": "text/x-python",
   "name": "python",
   "nbconvert_exporter": "python",
   "pygments_lexer": "ipython3",
   "version": "3.11.5"
  }
 },
 "nbformat": 4,
 "nbformat_minor": 2
}
