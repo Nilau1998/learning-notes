{
 "cells": [
  {
   "cell_type": "markdown",
   "metadata": {},
   "source": [
    "# Recurrent Neural Network"
   ]
  },
  {
   "cell_type": "code",
   "execution_count": 1,
   "metadata": {},
   "outputs": [],
   "source": [
    "import numpy as np\n",
    "import matplotlib.pyplot as plt\n",
    "import random"
   ]
  },
  {
   "cell_type": "markdown",
   "metadata": {},
   "source": [
    "Up until now, we have only seen feed forward neural networks. These networks do not have any idea of time. They are time-invariant.\n",
    "\n",
    "$$ y_1 = f(x_1) $$\n",
    "\n",
    "These network have been traditionally bad in predicting time series. Recurrent neural networks (RNNs) incorporate time by having loop connections, such that old input is fed again back into the network. Early Language models have used RNNs, such as language translation tools.\n",
    "\n",
    "$$ y_1, h_1 = f(x_1, h_0) $$\n",
    "$$ y_2, h_2 = f(x_2, h_1) $$\n",
    "\n",
    "In a sense the network reuses past outputs as inputs to keep track of time."
   ]
  },
  {
   "cell_type": "markdown",
   "metadata": {},
   "source": [
    "In our example, we will analyse sentiment data. The goal is to predict, if it is a positive or negative sentence. The time series comes from the relation of the word *not* and feeling attributes."
   ]
  },
  {
   "cell_type": "code",
   "execution_count": 2,
   "metadata": {},
   "outputs": [
    {
     "name": "stdout",
     "output_type": "stream",
     "text": [
      "Vocaublary size, unique words: 18\n",
      "Index of the word good: 9\n",
      "Word which has index 5: right\n"
     ]
    }
   ],
   "source": [
    "train_data = {\n",
    "  'good': True,\n",
    "  'bad': False,\n",
    "  'happy': True,\n",
    "  'sad': False,\n",
    "  'not good': False,\n",
    "  'not bad': True,\n",
    "  'not happy': False,\n",
    "  'not sad': True,\n",
    "  'very good': True,\n",
    "  'very bad': False,\n",
    "  'very happy': True,\n",
    "  'very sad': False,\n",
    "  'i am happy': True,\n",
    "  'this is good': True,\n",
    "  'i am bad': False,\n",
    "  'this is bad': False,\n",
    "  'i am sad': False,\n",
    "  'this is sad': False,\n",
    "  'i am not happy': False,\n",
    "  'this is not good': False,\n",
    "  'i am not bad': True,\n",
    "  'this is not sad': True,\n",
    "  'i am very happy': True,\n",
    "  'this is very good': True,\n",
    "  'i am very bad': False,\n",
    "  'this is very sad': False,\n",
    "  'this is very happy': True,\n",
    "  'i am good not bad': True,\n",
    "  'this is good not bad': True,\n",
    "  'i am bad not good': False,\n",
    "  'i am good and happy': True,\n",
    "  'this is not good and not happy': False,\n",
    "  'i am not at all good': False,\n",
    "  'i am not at all bad': True,\n",
    "  'i am not at all happy': False,\n",
    "  'this is not at all sad': True,\n",
    "  'this is not at all happy': False,\n",
    "  'i am good right now': True,\n",
    "  'i am bad right now': False,\n",
    "  'this is bad right now': False,\n",
    "  'i am sad right now': False,\n",
    "  'i was good earlier': True,\n",
    "  'i was happy earlier': True,\n",
    "  'i was bad earlier': False,\n",
    "  'i was sad earlier': False,\n",
    "  'i am very bad right now': False,\n",
    "  'this is very good right now': True,\n",
    "  'this is very sad right now': False,\n",
    "  'this was bad earlier': False,\n",
    "  'this was very good earlier': True,\n",
    "  'this was very bad earlier': False,\n",
    "  'this was very happy earlier': True,\n",
    "  'this was very sad earlier': False,\n",
    "  'i was good and not bad earlier': True,\n",
    "  'i was not good and not happy earlier': False,\n",
    "  'i am not at all bad or sad right now': True,\n",
    "  'i am not at all good or happy right now': False,\n",
    "  'this was not happy and not good earlier': False,\n",
    "}\n",
    "\n",
    "test_data = {\n",
    "  'this is happy': True,\n",
    "  'i am good': True,\n",
    "  'this is not happy': False,\n",
    "  'i am not good': False,\n",
    "  'this is not bad': True,\n",
    "  'i am not sad': True,\n",
    "  'i am very good': True,\n",
    "  'this is very bad': False,\n",
    "  'i am very sad': False,\n",
    "  'this is bad not good': False,\n",
    "  'this is good and happy': True,\n",
    "  'i am not good and not happy': False,\n",
    "  'i am not at all sad': True,\n",
    "  'this is not at all good': False,\n",
    "  'this is not at all bad': True,\n",
    "  'this is good right now': True,\n",
    "  'this is sad right now': False,\n",
    "  'this is very bad right now': False,\n",
    "  'this was good earlier': True,\n",
    "  'i was not happy and not good earlier': False,\n",
    "}\n",
    "\n",
    "vocab = list(set([w for text in train_data.keys() for w in text.split(' ')]))\n",
    "vocab_size = len(vocab)\n",
    "word_to_idx = { w: i for i, w in enumerate(vocab) }\n",
    "idx_to_word = { i: w for i, w in enumerate(vocab) }\n",
    "\n",
    "print('Vocaublary size, unique words:', vocab_size)\n",
    "print('Index of the word good:', word_to_idx['good'])\n",
    "print('Word which has index 5:', idx_to_word[5])"
   ]
  },
  {
   "cell_type": "code",
   "execution_count": 3,
   "metadata": {},
   "outputs": [
    {
     "name": "stdout",
     "output_type": "stream",
     "text": [
      "(3, 18, 1)\n",
      "[0. 0. 1. 0. 0. 0. 0. 0. 0. 0. 0. 0. 0. 0. 0. 0. 0. 0.]\n"
     ]
    }
   ],
   "source": [
    "def one_hot(text):\n",
    "    inputs = []\n",
    "    for w in text.split(' '):\n",
    "        v = np.zeros((vocab_size, 1))\n",
    "        v[word_to_idx[w]] = 1\n",
    "        inputs.append(v)\n",
    "    return inputs\n",
    "\n",
    "# We have three words, and in every word, exactly one element is 1 and the rest are 0\n",
    "example = np.array(one_hot('i am good'))\n",
    "print(example.shape)\n",
    "print(example[1].flatten())"
   ]
  },
  {
   "cell_type": "markdown",
   "metadata": {},
   "source": [
    "## Looping Connection (Hidden State)\n",
    "\n",
    "If you look into the documentation of for example [pytorch](https://pytorch.org/docs/stable/generated/torch.nn.RNN.html), you will see this formula to calculate the hidden state\n",
    "\n",
    "\n",
    "$$h_t = \\tanh(\\mathbf{W_{xh}} * \\mathbf{x_t} + \\mathbf{W_{hh}} * \\mathbf{h_{t-1}} + \\mathbf{b_h}) $$\n",
    "\n",
    "\n",
    "This formula basically tells you, the hidden state, depends on the current input and the hidden state from before. This hidden state is then used to calculate the result\n",
    "\n",
    "$$ y_t = \\mathbf{W_{hy}} * \\mathbf{h_t} + \\mathbf{b_y} $$\n",
    "\n",
    "\n",
    "## Backward pass\n",
    "\n",
    "How do we do gradient descent now? We do the same as always. We calculate the error, but now we have to take the order into account. \n",
    "\n",
    "1. We have to calculate the the derivative of the softmax function with respect to the loss function (negative log likelihood): $ \\frac{\\partial L}{\\partial y} $\n",
    "2. We calculate $ \\frac{\\partial L}{\\partial W_{hy}} $ and $ \\frac{\\partial L}{\\partial b_{y}} $\n",
    "3. Calculcate $ \\frac{\\partial L}{\\partial W_{hx}} $, $ \\frac{\\partial L}{\\partial W_{hh}} $ and $ \\frac{\\partial L}{\\partial b_{h}} $\n",
    "\n",
    "## Graphical Representation\n",
    "\n",
    "While formulas are fun, nothing beats a graphical representation.\n",
    "\n",
    "$x$ is the input and $y$ the output of the cell\n",
    "\n",
    "![RNN](images/rnn.png)"
   ]
  },
  {
   "cell_type": "code",
   "execution_count": 4,
   "metadata": {},
   "outputs": [],
   "source": [
    "def softmax(x):\n",
    "    return np.exp(x)/sum(np.exp(x))\n",
    "\n",
    "\n",
    "class SimpleRNN:\n",
    "    def __init__(self, input_dim, hidden_dim, output_dim):\n",
    "        self.hidden_dim = hidden_dim\n",
    "        self.W_xh = np.random.randn(hidden_dim, input_dim) * 0.01\n",
    "        self.W_hh = np.random.randn(hidden_dim, hidden_dim) * 0.01\n",
    "        self.W_hy = np.random.randn(output_dim, hidden_dim) * 0.01\n",
    "        self.b_h = np.zeros((hidden_dim, 1))\n",
    "        self.b_y = np.zeros((output_dim, 1))\n",
    "\n",
    "    def forward(self, x):\n",
    "        h_t = np.zeros((self.hidden_dim, 1))\n",
    "        self.h_states = []\n",
    "\n",
    "        for t in range(len(x)):\n",
    "            h_t = np.tanh(self.W_xh @ x[t] + self.W_hh @ h_t + self.b_h)\n",
    "            self.h_states.append(h_t)\n",
    "\n",
    "        y = self.W_hy @ h_t + self.b_y\n",
    "        probs = softmax(y)\n",
    "        return probs\n",
    "\n",
    "    def backward(self, x, dy, lr=2e-2):\n",
    "        n = len(x)\n",
    "        dW_xh, dW_hh = np.zeros_like(self.W_xh), np.zeros_like(self.W_hh)\n",
    "        db_h = np.zeros_like(self.b_h)\n",
    "\n",
    "        # First we calculate the gradients of our output w.r.t. the loss\n",
    "        db_y = dy\n",
    "        dW_hy = dy @ self.h_states[n-1].T\n",
    "        dh = (self.W_hy.T @ dy)\n",
    "\n",
    "        # Backpropagate through time\n",
    "        for t in reversed(range(n)):\n",
    "            # Derivative of tanh\n",
    "            temp = (1 - self.h_states[t] ** 2) * dh\n",
    "            db_h += temp\n",
    "            dW_hh += temp @ self.h_states[t - 1].T\n",
    "            dW_xh += temp @ x[t].T\n",
    "            dh = self.W_hh.T @ temp\n",
    "\n",
    "        # Clip gradients to mitigate exploding gradients\n",
    "        for dparam in [dW_xh, dW_hy, dW_hh, db_h, db_y]:\n",
    "            np.clip(dparam, -1, 1, out=dparam)\n",
    "\n",
    "        self.W_hh -= lr * dW_hh\n",
    "        self.W_xh -= lr * dW_xh\n",
    "        self.W_hy -= lr * dW_hy\n",
    "        self.b_h -= lr * db_h\n",
    "        self.b_y -= lr * db_y"
   ]
  },
  {
   "cell_type": "code",
   "execution_count": 5,
   "metadata": {},
   "outputs": [],
   "source": [
    "def process(data, rnn, backprop):\n",
    "    items = list(data.items())\n",
    "    random.shuffle(items)\n",
    "\n",
    "    loss = 0\n",
    "    num_correct = 0\n",
    "\n",
    "    for x, y in items:\n",
    "        inputs = one_hot(x)\n",
    "        target = int(y)\n",
    "        probs = rnn.forward(inputs)\n",
    "        loss -= np.log(probs[target])\n",
    "        num_correct += int(np.argmax(probs) == target)\n",
    "        if backprop:\n",
    "            # Check out the softmax notebook for more details\n",
    "            # If we derive the negative log likelihood loss function with respect to the softmax function, we get this neat formula\n",
    "            probs[target] -= 1\n",
    "            rnn.backward(inputs, probs)\n",
    "    return loss, num_correct / len(data)"
   ]
  },
  {
   "cell_type": "code",
   "execution_count": 10,
   "metadata": {},
   "outputs": [
    {
     "data": {
      "text/plain": [
       "Text(0.5, 1.0, 'Test Accuracy')"
      ]
     },
     "execution_count": 10,
     "metadata": {},
     "output_type": "execute_result"
    },
    {
     "data": {
      "image/png": "[encoded data removed]",
      "text/plain": [
       "<Figure size 640x480 with 4 Axes>"
      ]
     },
     "metadata": {},
     "output_type": "display_data"
    }
   ],
   "source": [
    "rnn = SimpleRNN(vocab_size, 64, 2)\n",
    "\n",
    "train_losses, train_accuracies = [], []\n",
    "test_losses, test_accuracies = [], []\n",
    "for epoch in range(1200):\n",
    "    train_loss, train_acc = process(train_data, rnn, backprop=True)\n",
    "    train_losses.append(train_loss)\n",
    "    train_accuracies.append(train_acc)\n",
    "\n",
    "    if epoch % 100 == 99:\n",
    "        test_loss, test_acc = process(test_data, rnn, backprop=False)\n",
    "        test_losses.append(test_loss)\n",
    "        test_accuracies.append(test_acc)\n",
    "\n",
    "fig, axs = plt.subplots(2, 2)\n",
    "axs[0, 0].plot(train_losses)\n",
    "axs[0, 0].set_title('Train Loss')\n",
    "axs[0, 1].plot(train_accuracies)\n",
    "axs[0, 1].set_title('Train Accuracy')\n",
    "axs[1, 0].plot(test_losses)\n",
    "axs[1, 0].set_title('Test Loss')\n",
    "axs[1, 1].plot(test_accuracies)\n",
    "axs[1, 1].set_title('Test Accuracy')"
   ]
  },
  {
   "cell_type": "code",
   "execution_count": 11,
   "metadata": {},
   "outputs": [
    {
     "name": "stdout",
     "output_type": "stream",
     "text": [
      "1\n",
      "0\n"
     ]
    }
   ],
   "source": [
    "print(np.argmax(rnn.forward(one_hot('this is happy'))))\n",
    "print(np.argmax(rnn.forward(one_hot('this is not happy'))))"
   ]
  },
  {
   "cell_type": "markdown",
   "metadata": {},
   "source": [
    "## Sources\n",
    "* [rnn-from-scratch](https://github.com/vzhou842/rnn-from-scratch/tree/master)\n",
    "* [The Unreasonable Effectiveness of Recurrent Neural Networks](http://karpathy.github.io/2015/05/21/rnn-effectiveness/)\n"
   ]
  },
  {
   "cell_type": "markdown",
   "metadata": {},
   "source": []
  }
 ],
 "metadata": {
  "kernelspec": {
   "display_name": "torch",
   "language": "python",
   "name": "python3"
  },
  "language_info": {
   "codemirror_mode": {
    "name": "ipython",
    "version": 3
   },
   "file_extension": ".py",
   "mimetype": "text/x-python",
   "name": "python",
   "nbconvert_exporter": "python",
   "pygments_lexer": "ipython3",
   "version": "3.11.5"
  }
 },
 "nbformat": 4,
 "nbformat_minor": 2
}
