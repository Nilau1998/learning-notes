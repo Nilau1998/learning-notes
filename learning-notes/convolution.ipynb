{
 "cells": [
  {
   "cell_type": "markdown",
   "id": "6d1f0a2b",
   "metadata": {},
   "source": [
    "# Convolution"
   ]
  },
  {
   "cell_type": "markdown",
   "id": "155455c0",
   "metadata": {},
   "source": [
    "This notebook explores various concepts related to image filtering and convolution. It demonstrates the use of linear filters, such as box filters and Gaussian filters, and explains their properties and applications.\n",
    "\n",
    "By the end of this notebook, you will have a solid understanding of image filtering, convolution, and the different types of filters commonly used in image processing. You will also be familiar with efficient implementation techniques and the properties of convolution.\n",
    "\n",
    "Let's dive into the world of image filtering and convolution!"
   ]
  },
  {
   "cell_type": "markdown",
   "id": "50f5a622",
   "metadata": {},
   "source": [
    "## Impulse Response\n",
    "\n",
    "An impulse is just an image consisting of all zeros, except for a single pixel that has the value 1.0, at the center.\n",
    "Impulse responses fully characterize linear filters, as we shall see below."
   ]
  },
  {
   "cell_type": "code",
   "execution_count": null,
   "id": "8774fe60",
   "metadata": {},
   "outputs": [],
   "source": [
    "import numpy as np\n",
    "import matplotlib.pyplot as plt\n",
    "import scipy.ndimage as img\n",
    "from PIL import Image"
   ]
  },
  {
   "cell_type": "code",
   "execution_count": null,
   "id": "653ab625",
   "metadata": {},
   "outputs": [],
   "source": [
    "def imrow(*args):\n",
    "    _, axs = plt.subplots(1,len(args))\n",
    "    for i, im in enumerate(args):\n",
    "        axs[i].imshow(im, cmap='gray')"
   ]
  },
  {
   "cell_type": "code",
   "execution_count": null,
   "id": "4c7af48e",
   "metadata": {},
   "outputs": [],
   "source": [
    "# 2D array representing an impulse\n",
    "impulse = np.zeros((64,64))\n",
    "impulse[32,32] = 1.0\n",
    "plt.imshow(impulse,  cmap='gray')"
   ]
  },
  {
   "cell_type": "markdown",
   "id": "a5c5a466",
   "metadata": {},
   "source": [
    "## Box Filter and Gaussian Filter"
   ]
  },
  {
   "cell_type": "markdown",
   "id": "39f60c5b",
   "metadata": {},
   "source": [
    "Let's start by loading an image and inspecting it. We are looking at a grayscale image"
   ]
  },
  {
   "cell_type": "code",
   "execution_count": null,
   "id": "409f56ff",
   "metadata": {},
   "outputs": [],
   "source": [
    "image = np.array(Image.open('images/bridge.jpeg'))\n",
    "print(image.shape, image[:1,:1,:], np.max(image))\n",
    "plt.imshow(image)"
   ]
  },
  {
   "cell_type": "code",
   "execution_count": null,
   "id": "80e7a402",
   "metadata": {},
   "outputs": [],
   "source": [
    "flatten = np.average(image, axis=2) / 255.0\n",
    "print(flatten.shape, flatten[:1,:1], np.max(flatten))\n",
    "plt.imshow(flatten, cmap='gray')"
   ]
  },
  {
   "cell_type": "markdown",
   "id": "314bf1c1",
   "metadata": {},
   "source": [
    "Let's start with a box filter (or uniform filter).\n",
    "You can think of this as \"local averaging\" of the pixels of an image.\n",
    "That is, you replace each pixel with an average of the pixels around it."
   ]
  },
  {
   "cell_type": "code",
   "execution_count": null,
   "id": "1abfd521",
   "metadata": {},
   "outputs": [],
   "source": [
    "imrow(img.uniform_filter(impulse, 5.0), img.uniform_filter(flatten, 5.0))"
   ]
  },
  {
   "cell_type": "markdown",
   "id": "e36fb718",
   "metadata": {},
   "source": [
    "Can you spot what is happening? We are averaging over the image. The filter's response can be seen very clearly on the impulse image. \n",
    "\n",
    "In the next stepp, we use a different filter, than just a stupid box filter. We use a gaussian filter.\n",
    "\n",
    "A Gaussian filter is similar to a box filter, but instead of taking an average\n",
    "over a neighborhood, you take a weighted average.\n",
    "The further a pixel is away from the center pixel, the less it contributes to the average.\n",
    "The weight of the averages is given by the Gaussian function (see below).\n",
    "Using it has numerous mathematical and practical advantages.\n",
    "This is one of the most common filters used in practice.\n",
    "You can \"read off\" the weights in the impulse response."
   ]
  },
  {
   "cell_type": "code",
   "execution_count": null,
   "id": "d41bbda1",
   "metadata": {
    "collapsed": false
   },
   "outputs": [],
   "source": [
    "imrow(img.gaussian_filter(impulse, 10.0), img.gaussian_filter(flatten, 10.0))"
   ]
  },
  {
   "cell_type": "markdown",
   "id": "b27cba84",
   "metadata": {},
   "source": [
    "The impulse response is important because it completely characterizes a linear shift invariant filter.\n",
    "Why?  Because we can decompose an image into impulses, then apply the impulse response to each filter,\n",
    "and then add it all up again."
   ]
  },
  {
   "cell_type": "markdown",
   "id": "2a76ffe2",
   "metadata": {},
   "source": [
    "(definitions)\n",
    "\n",
    "Let the input image be $I$ and pixel $(i,j)$ given by $I_{ij}$.\n",
    "\n",
    "Write the impulse signal as $\\delta$.\n",
    "\n",
    "Also, let $S_{ij}$ be a filter that shifts \n",
    "the image such that the pixel at the origin ends\n",
    "up at position $i,j$.\n",
    "It's easy to see that $S$ is also a linear filter.\n",
    "\n",
    "Now,\n",
    "\n",
    "$ I = \\sum S_{ij}[I_{ij}\\cdot\\delta] $"
   ]
  },
  {
   "cell_type": "markdown",
   "id": "2acecb23",
   "metadata": {},
   "source": [
    "(impulse response and filters)\n",
    "\n",
    "$ F[I] = F[\\sum S_{ij}[I_{ij}\\delta]] $\n",
    "\n",
    "By linearity:\n",
    "\n",
    "$ = \\sum F[S_{i,j} [I_{ij}\\delta]] $\n",
    "\n",
    "By shift invariance:\n",
    "\n",
    "$ = \\sum S_{i,j}[ F[I_{ij}\\delta] ] $ \n",
    "\n",
    "By linearity, since $I_{ij}$ is just a number:\n",
    "\n",
    "$ = \\sum S_{i,j} [I_{ij} F[\\delta] ] $\n",
    "\n",
    "Here, $F[\\delta]$ is the impulse response."
   ]
  },
  {
   "cell_type": "markdown",
   "id": "cc1d452c",
   "metadata": {},
   "source": [
    "(equivalence)\n",
    "\n",
    "Therefore, applying a linear filter is equivalent to \n",
    "just summing up its impulse response."
   ]
  },
  {
   "cell_type": "markdown",
   "id": "0275c628",
   "metadata": {},
   "source": [
    "(convolution)\n",
    "\n",
    "The operation of combining an image with the impulse response of a filter is called the _convolution_.\n",
    "\n",
    "Ignoring boundary conditions, for infinitely large 1D signals, it is written as:\n",
    "\n",
    "$ (x * y)~_i = \\sum_{j=-\\infty}^{\\infty} x_j y_{i-j} $"
   ]
  },
  {
   "cell_type": "markdown",
   "id": "8221e666",
   "metadata": {},
   "source": [
    "(properties of convolutions)\n",
    "\n",
    "Convolution has the following properties:\n",
    "\n",
    "- commutativity: $x * y = y * x$\n",
    "- associativity: $x * (y * z) = (x * y) * z$\n",
    "- distributivity: $x * (y + z) = x * y + x * z$\n",
    "- scalar multiplication: $\\alpha (x * y) = (\\alpha x) * y = x * (\\alpha y)$"
   ]
  },
  {
   "cell_type": "markdown",
   "id": "0b146f4f",
   "metadata": {},
   "source": [
    "(2D convolution)\n",
    "\n",
    "In 2D, convolution is defined analogously.\n",
    "\n",
    "These properties carry over to linear shift invariant filters, since convolutions and linear\n",
    "shift invariant filters are equivalent.\n"
   ]
  },
  {
   "cell_type": "markdown",
   "id": "2f2af113",
   "metadata": {},
   "source": [
    "(cross-correlation)\n",
    "\n",
    "Note that there is a closely related operation where the minus sign has been replaced with a plus, the _cross-correlation_:\n",
    "\n",
    "$ (x \\star y)~_i = \\sum_{j=-\\infty}^{\\infty} x_j y_{i+j} $\n",
    "\n",
    "The minus sign has the effect of \"flipping\" the mask around. \n",
    "This is also a useful operation, but the algebraic identities above don't quite hold anymore."
   ]
  },
  {
   "cell_type": "markdown",
   "id": "b627ae73",
   "metadata": {},
   "source": [
    "(convolution in the library)\n",
    "\n",
    "Convolution is implemented by the `convolve` function.\n",
    "\n",
    "Let us check that applying linear filter $g(\\cdot,5)$ is the same as convolving with its impulse response.\n",
    "\n",
    "That is, $g(x,5) = x * g(\\delta,5)$"
   ]
  },
  {
   "cell_type": "code",
   "execution_count": null,
   "id": "89a92d81",
   "metadata": {
    "collapsed": false
   },
   "outputs": [],
   "source": [
    "mask = img.gaussian_filter(impulse, 5.0)\n",
    "convolved_image = img.convolve(flatten, mask)\n",
    "filtered_image = img.gaussian_filter(flatten, 5.0)\n",
    "\n",
    "imrow(convolved_image, filtered_image)\n",
    "print(np.amax(abs(filtered_image-convolved_image)))"
   ]
  },
  {
   "cell_type": "markdown",
   "id": "5daf9731",
   "metadata": {},
   "source": [
    "## Composition of Filters"
   ]
  },
  {
   "cell_type": "markdown",
   "id": "ee1fcc55",
   "metadata": {},
   "source": [
    "Let us check associativity of filters.\n",
    "This is a very useful property of linear filters because instead of applying a sequence\n",
    "of tilers, we can pre-compose the filters and then just apply the filter once."
   ]
  },
  {
   "cell_type": "code",
   "execution_count": null,
   "id": "646698bd",
   "metadata": {
    "collapsed": false
   },
   "outputs": [],
   "source": [
    "# composition of linear filters\n",
    "result1 = img.convolve(img.convolve(flatten,mask),mask)\n",
    "result2 = img.convolve(flatten,img.convolve(mask,mask))\n",
    "imrow(result1,result2)\n",
    "print(np.amax(abs(result1-result2)))"
   ]
  },
  {
   "cell_type": "markdown",
   "id": "21b42195",
   "metadata": {},
   "source": [
    "(composition of Gaussian filters)\n",
    "\n",
    "Does this work for Gaussian filters?\n",
    "\n",
    "Yes, but there is one small thing to watch out for: \n",
    "the parameter that we give to the Gaussian filter does not\n",
    "quite combine in the way we expect.\n",
    "Applying two Gaussian filters of width 5 is\n",
    "equivalent to applying on one of width $\\sqrt{5^2+5^2}$.\n",
    "\n",
    "(Looking at the definition of the Gaussian and Gaussian filter below,\n",
    "work out for yourself why these parameters behave like that.)"
   ]
  },
  {
   "cell_type": "code",
   "execution_count": null,
   "id": "8cc98bd5",
   "metadata": {
    "collapsed": false
   },
   "outputs": [],
   "source": [
    "gf = img.gaussian_filter\n",
    "result1 = gf(gf(flatten,5.0),5.0)\n",
    "result2 = gf(flatten,np.sqrt(5**2+5**2))\n",
    "imrow(result1,result2)\n",
    "print(np.amax(abs(result1-result2)))"
   ]
  },
  {
   "cell_type": "markdown",
   "id": "4accb6f4",
   "metadata": {},
   "source": [
    "## Separability"
   ]
  },
  {
   "cell_type": "markdown",
   "id": "d8f3e8f5",
   "metadata": {},
   "source": [
    "Many filtes are separable.  That is, instead of convolving with a 2D mask, we can convolve with\n",
    "two 1D masks.\n",
    "\n",
    "For Gaussian filters, we can actually specify the width and the height of the filter separately.\n",
    "Applying two filters of shape (5,0) and (0,5) is equivalent to applying one filter\n",
    "of shape (5,5)."
   ]
  },
  {
   "cell_type": "code",
   "execution_count": null,
   "id": "778bc410",
   "metadata": {
    "collapsed": false
   },
   "outputs": [],
   "source": [
    "# horizontal and vertical Gaussians\n",
    "vf = gf(impulse,(5.0,0.0))\n",
    "hf = gf(impulse,(0.0,5.0))\n",
    "imrow(impulse, vf,hf)"
   ]
  },
  {
   "cell_type": "markdown",
   "id": "61210e4c",
   "metadata": {},
   "source": [
    "The convolution of these two filters is the same as a Gaussian."
   ]
  },
  {
   "cell_type": "code",
   "execution_count": null,
   "id": "43243d67",
   "metadata": {
    "collapsed": false
   },
   "outputs": [],
   "source": [
    "# convolution of horizontal and vertical Gaussians\n",
    "imrow(vf,hf,img.convolve(vf,hf))"
   ]
  },
  {
   "cell_type": "markdown",
   "id": "5a76e871",
   "metadata": {},
   "source": [
    "These properties now carry over to the filters themselves. \n",
    "\n",
    "Note that $ g(\\cdot,(5,0)) $ is implemented more efficiently than $g(\\cdot,(5,5))$."
   ]
  },
  {
   "cell_type": "code",
   "execution_count": null,
   "id": "0b65ef12",
   "metadata": {
    "collapsed": false
   },
   "outputs": [],
   "source": [
    "# separable convolution\n",
    "imrow(impulse,gf(impulse,(5.0,5.0)),gf(gf(impulse,(5.0,0.0)),(0.0,5.0)))"
   ]
  },
  {
   "cell_type": "code",
   "execution_count": null,
   "id": "db51bfc5",
   "metadata": {
    "collapsed": false
   },
   "outputs": [],
   "source": [
    "# separable convolution\n",
    "imrow(gf(flatten,(5.0,5.0)),gf(gf(flatten,(5.0,0.0)),(0.0,5.0)))"
   ]
  },
  {
   "cell_type": "markdown",
   "id": "a9cc1802",
   "metadata": {},
   "source": [
    "## Gaussians"
   ]
  },
  {
   "cell_type": "markdown",
   "id": "3d754b53",
   "metadata": {},
   "source": [
    "We keep talking about Gaussian filters, but haven't really looked at what those weights are.\n",
    "\n",
    "They are given by the following simple function."
   ]
  },
  {
   "cell_type": "code",
   "execution_count": null,
   "id": "d2338b19",
   "metadata": {
    "collapsed": false
   },
   "outputs": [],
   "source": [
    "xs = np.arange(-5.0,5.0,0.25)\n",
    "ys = np.exp(-xs**2/2.0)\n",
    "plt.plot(xs,ys)"
   ]
  },
  {
   "cell_type": "markdown",
   "id": "fbbfa794",
   "metadata": {},
   "source": [
    "\n",
    "The general formula is:\n",
    "\n",
    "$ G(x) = (2\\pi\\sigma^2)^{-1/2} e^\\frac{-(x-\\mu)^2}{2\\sigma^2} $\n",
    "\n",
    "This generalizes to multiple dimensions by just using vectors for $\\mu$ and $x$."
   ]
  },
  {
   "cell_type": "markdown",
   "id": "2fcd6769",
   "metadata": {},
   "source": [
    "For 2D filtering, we compute the outer product of these 1D masks. \n",
    "This is analogous to the convolution of the horizontal and vertical masks\n",
    "above, where we looked at separability."
   ]
  },
  {
   "cell_type": "code",
   "execution_count": null,
   "id": "1043fc16",
   "metadata": {
    "collapsed": false
   },
   "outputs": [],
   "source": [
    "mask = np.outer(ys,ys)\n",
    "plt.imshow(mask, cmap='gray')"
   ]
  },
  {
   "cell_type": "markdown",
   "id": "a91f1e14",
   "metadata": {},
   "source": [
    "Now let's just look at how this filter looks."
   ]
  },
  {
   "cell_type": "code",
   "execution_count": null,
   "id": "7c370009",
   "metadata": {
    "collapsed": false
   },
   "outputs": [],
   "source": [
    "# convolution with an explicitly constructed Gaussian mask\n",
    "imrow(flatten,img.convolve(flatten,mask))"
   ]
  },
  {
   "cell_type": "markdown",
   "id": "6dd53bc6",
   "metadata": {},
   "source": [
    "## Data Parallel Convolution"
   ]
  },
  {
   "cell_type": "markdown",
   "id": "39a88874",
   "metadata": {},
   "source": [
    "Above, we had already talked about linear filters as kinds of local averaging operations.\n",
    "\n",
    "A simple implementation of this is to actually compute local averages.   Here is Python\n",
    "code that does this."
   ]
  },
  {
   "cell_type": "code",
   "execution_count": null,
   "id": "ae17ae9b",
   "metadata": {
    "collapsed": true
   },
   "outputs": [],
   "source": [
    "# nested loop implementation of a box filter\n",
    "def dumb_boxfilter(image,r):\n",
    "    r /= 2\n",
    "    w,h = image.shape\n",
    "    out = np.zeros(image.shape)\n",
    "    r = int(r)\n",
    "    for i in range(r,w-r):\n",
    "        for j in range(r,h-r):\n",
    "            out[i,j] = np.mean(image[i-r:i+r,j-r:j+r])\n",
    "    return out"
   ]
  },
  {
   "cell_type": "code",
   "execution_count": null,
   "id": "bbec01c9",
   "metadata": {
    "collapsed": false
   },
   "outputs": [],
   "source": [
    "# library vs nested loop for box filter\n",
    "imrow(img.uniform_filter(flatten,20),dumb_boxfilter(flatten,20))"
   ]
  },
  {
   "cell_type": "markdown",
   "id": "ae6ff4c6",
   "metadata": {},
   "source": [
    "This turns out not to be a very efficient way of implementing these kinds of filters in array\n",
    "languages, because there are lots of loop steps and local operations.\n",
    "\n",
    "It is much more efficient to loop over the $r$ values and leave the addition of the big\n",
    "arrays to fast array operations within Python.\n",
    "\n",
    "First let's look at the library function roll:"
   ]
  },
  {
   "cell_type": "code",
   "execution_count": null,
   "id": "2742e0a3",
   "metadata": {},
   "outputs": [],
   "source": [
    "a = np.roll(flatten, 50, axis=0)\n",
    "b = np.roll(flatten, 50, axis=1)\n",
    "c = a+b\n",
    "imrow(a, b, c/np.amax(c))"
   ]
  },
  {
   "cell_type": "code",
   "execution_count": null,
   "id": "b2f4aae4",
   "metadata": {
    "collapsed": true
   },
   "outputs": [],
   "source": [
    "# data parallel implementation of box filter\n",
    "def simple_average(image,r):\n",
    "    out = np.zeros(image.shape)\n",
    "    r_ = int(r/2)\n",
    "    for i in range(-r_,r_):\n",
    "        for j in range(-r_,r_):\n",
    "            out += np.roll(np.roll(image,i,axis=0),j,axis=1)\n",
    "    return out*1.0/(r*r)\n",
    "\n",
    "imrow(img.uniform_filter(flatten,10),simple_average(flatten,10))"
   ]
  },
  {
   "cell_type": "markdown",
   "id": "ca8c6dbb",
   "metadata": {},
   "source": [
    "We can also implement general convolutions with masks by computing a weighted average/sum."
   ]
  },
  {
   "cell_type": "code",
   "execution_count": null,
   "id": "1074f5bb",
   "metadata": {
    "collapsed": true
   },
   "outputs": [],
   "source": [
    "# data parallel implementation of convolution\n",
    "def simple_convolve(image, mask):\n",
    "    mw, mh = mask.shape\n",
    "    out = np.zeros(image.shape)\n",
    "    for i in range(mw):\n",
    "        for j in range(mh):\n",
    "            out += mask[i, j]*np.roll(np.roll(image,\n",
    "                                      int(mw/2-i), axis=0), int(mh/2-j), axis=1)\n",
    "    return out\n",
    "\n",
    "imrow(img.convolve(flatten,mask), simple_convolve(flatten,mask))\n"
   ]
  }
 ],
 "metadata": {
  "kernelspec": {
   "display_name": "torch",
   "language": "python",
   "name": "python3"
  },
  "language_info": {
   "codemirror_mode": {
    "name": "ipython",
    "version": 3
   },
   "file_extension": ".py",
   "mimetype": "text/x-python",
   "name": "python",
   "nbconvert_exporter": "python",
   "pygments_lexer": "ipython3",
   "version": "3.11.5"
  }
 },
 "nbformat": 4,
 "nbformat_minor": 5
}
