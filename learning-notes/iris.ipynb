{
 "cells": [
  {
   "cell_type": "markdown",
   "metadata": {},
   "source": [
    "# Task: Classify Iris Flower\n",
    "\n",
    "This Jupyter Notebook is a practical example of how to classify the famous iris flower dataset. The goal is to build a machine learning model that can accurately predict the species of an iris flower based on its measurements.\n",
    "\n",
    "The iris flower dataset is a well-known dataset in the field of machine learning. It consists of measurements of four features (sepal length, sepal width, petal length, and petal width) of three different species of iris flowers (setosa, versicolor, and virginica). The dataset is commonly used to demonstrate various machine learning algorithms and techniques.\n",
    "\n",
    "In this notebook, we will walk through the process of loading the iris dataset, visualizing the data, preprocessing the data, building a multilayer perceptron (MLP) model, training the model, evaluating the model's performance, and visualizing the training progress.\n",
    "\n",
    "The boilerplate code is already prepared for you!\n",
    "\n",
    "Let's get started!"
   ]
  },
  {
   "cell_type": "code",
   "execution_count": null,
   "metadata": {},
   "outputs": [],
   "source": [
    "from sklearn.datasets import load_iris\n",
    "import matplotlib.pyplot as plt\n",
    "from sklearn.model_selection import train_test_split\n",
    "import numpy as np\n",
    "\n",
    "iris = load_iris()\n",
    "\n",
    "plt.scatter(iris.data[:, 0], iris.data[:, 1], c=iris.target)\n",
    "plt.xlabel('Sepal Length')\n",
    "plt.ylabel('Sepal Width')\n",
    "plt.title('Iris Dataset')\n",
    "plt.show()\n",
    "\n",
    "X_train, X_test, y_train, y_test = train_test_split(iris.data, iris.target, test_size=0.2, random_state=42)\n",
    "print(iris.data.shape)\n",
    "print('Train:', X_train.shape, y_train.shape)\n",
    "print('Test:', y_train.shape, y_test.shape)"
   ]
  },
  {
   "cell_type": "markdown",
   "metadata": {},
   "source": [
    "## Questions & Tasks\n",
    "1. How many classes do we have?\n",
    "2. How many features do we have?\n",
    "3. Use the Multilayer Perceptron. We need to modify the **Input** and **Output** Layer as well as the **Learning Rate**. Explain the changes.\n",
    "5. What is the accuracy of the MLP model?\n",
    "6. How many epochs did the training loop run for?\n",
    "7. What is the purpose of the Sigmoid activation function?\n",
    "8. How does the Softmax activation function work?\n",
    "9. Can you visualize the training progress?\n",
    "10. Can you create a confusion matrix for the MLP model?"
   ]
  },
  {
   "cell_type": "code",
   "execution_count": null,
   "metadata": {},
   "outputs": [],
   "source": [
    "# I have already prepared the softmax.\n",
    "class Softmax:\n",
    "    def forward(self, input):\n",
    "        self.result = np.exp(input)/np.sum(np.exp(input))\n",
    "        return self.result\n",
    "\n",
    "    def backward(self, targets, _):\n",
    "        return self.result - targets"
   ]
  },
  {
   "cell_type": "code",
   "execution_count": null,
   "metadata": {},
   "outputs": [],
   "source": [
    "# Copy MLP here and adapt it, you find it in the mlp.ipynb file\n",
    "# network = Network(...)\n",
    "# network.forward(X_train[0])"
   ]
  },
  {
   "cell_type": "code",
   "execution_count": null,
   "metadata": {},
   "outputs": [],
   "source": [
    "epochs = 1000\n",
    "losses = []\n",
    "\n",
    "# Finish the training loop\n",
    "for epoch in range(epochs):\n",
    "    loss = 0\n",
    "    for x, y in zip (X_train, y_train):\n",
    "        pass\n",
    "    losses.append(loss)"
   ]
  },
  {
   "cell_type": "code",
   "execution_count": null,
   "metadata": {},
   "outputs": [],
   "source": [
    "correct_predictions = 0\n",
    "total_predictions = len(X_test)\n",
    "predictions = []\n",
    "for x, y in zip(X_test, y_test):\n",
    "    # prediction = network.forward(x)\n",
    "    # correct_predictions += np.argmax(prediction) == y\n",
    "    pass\n",
    "\n",
    "accuracy = correct_predictions / total_predictions\n",
    "# print(\"Accuracy: \", accuracy)\n",
    "# plt.plot(losses)"
   ]
  },
  {
   "cell_type": "code",
   "execution_count": null,
   "metadata": {},
   "outputs": [],
   "source": [
    "# Draw a confusion matrix\n",
    "# Hint use sklearn.metrics.confusion_matrix and sklearn.metrics.ConfusionMatrixDisplay"
   ]
  }
 ],
 "metadata": {
  "kernelspec": {
   "display_name": "Python 3 (ipykernel)",
   "language": "python",
   "name": "python3"
  },
  "language_info": {
   "codemirror_mode": {
    "name": "ipython",
    "version": 3
   },
   "file_extension": ".py",
   "mimetype": "text/x-python",
   "name": "python",
   "nbconvert_exporter": "python",
   "pygments_lexer": "ipython3",
   "version": "3.11.5"
  }
 },
 "nbformat": 4,
 "nbformat_minor": 4
}
