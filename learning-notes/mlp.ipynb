{
 "cells": [
  {
   "cell_type": "markdown",
   "metadata": {},
   "source": [
    "# Multilayer Perceptron\n"
   ]
  },
  {
   "cell_type": "code",
   "execution_count": null,
   "metadata": {},
   "outputs": [],
   "source": [
    "import numpy as np\n",
    "import matplotlib.pyplot as plt"
   ]
  },
  {
   "cell_type": "markdown",
   "metadata": {},
   "source": [
    "Multilayer Perceptron is a type of artificial neural network that consists of multiple layers of interconnected nodes, called neurons. It is a feedforward neural network, meaning that the information flows in one direction, from the input layer to the output layer.\n",
    "\n",
    "MLP is widely used in various machine learning tasks, such as classification, regression, and pattern recognition. It is known for its ability to learn complex patterns and make accurate predictions.\n"
   ]
  },
  {
   "cell_type": "code",
   "execution_count": null,
   "metadata": {},
   "outputs": [],
   "source": [
    "# Plot the decision boundary of a classifier\n",
    "# Not really important for the course\n",
    "def plotgrid(f, dr=0):\n",
    "    result = np.zeros((100, 100))\n",
    "    for i in range(100):\n",
    "        for j in range(100):\n",
    "            x = np.array([i/100.0, j/100.0])\n",
    "            z = f(x)\n",
    "            if dr == 0:\n",
    "                z /= sum(z)\n",
    "                result[i, j] = z[1]\n",
    "            else:\n",
    "                result[i, j] = np.argmax(z)\n",
    "    return result.T[::-1]"
   ]
  },
  {
   "cell_type": "code",
   "execution_count": null,
   "metadata": {},
   "outputs": [],
   "source": [
    "def random_data():\n",
    "    data = np.random.random_sample((100, 2))\n",
    "    labels = (data[:, 0]-data[:, 1] < 0)\n",
    "\n",
    "    d0 = data[labels == False]\n",
    "    d1 = data[labels]\n",
    "\n",
    "    targets = np.array([labels, 1-labels]).T\n",
    "    return data, targets, labels, d0, d1"
   ]
  },
  {
   "cell_type": "code",
   "execution_count": null,
   "metadata": {},
   "outputs": [],
   "source": [
    "data, targets, labels, d0, d1 = random_data()\n",
    "plt.plot(d0[:, 0], d0[:, 1], \"bo\")\n",
    "plt.plot(d1[:, 0], d1[:, 1], \"ro\")"
   ]
  },
  {
   "cell_type": "markdown",
   "metadata": {},
   "source": [
    "## Fully Connected Feed-Forward Network"
   ]
  },
  {
   "cell_type": "code",
   "execution_count": null,
   "metadata": {},
   "outputs": [],
   "source": [
    "class Fully:\n",
    "    def __init__(self, neurons, input_length):\n",
    "        self.weights = np.random.random((neurons, input_length))\n",
    "\n",
    "    def forward(self, input):\n",
    "        self.input = input\n",
    "        return np.dot(self.weights, self.input)\n",
    "\n",
    "    def backward(self, back, lr):\n",
    "        x = np.outer(back, self.input)\n",
    "        old_weights = self.weights\n",
    "        self.weights -= lr * x\n",
    "        return np.dot(old_weights.T, back)\n",
    "\n",
    "\n",
    "class Sigmoid:\n",
    "    def forward(self, input):\n",
    "        self.result = 1/(1+np.exp(-input))\n",
    "        return self.result\n",
    "\n",
    "    def backward(self, back, _):\n",
    "        return back * self.result*(1-self.result)\n",
    "\n",
    "\n",
    "class Network:\n",
    "    def __init__(self, input_length, output_length, lr):\n",
    "        self.lr = lr\n",
    "        self.net = [\n",
    "            Fully(5, input_length),\n",
    "            Sigmoid(),\n",
    "            Fully(output_length, 5),\n",
    "            Sigmoid()\n",
    "        ]\n",
    "\n",
    "    def forward(self, x):\n",
    "        for layer in self.net:\n",
    "            x = layer.forward(x)\n",
    "        return x\n",
    "\n",
    "    def backward(self, y):\n",
    "        for layer in reversed(self.net):\n",
    "            y = layer.backward(y, self.lr)\n",
    "\n",
    "network = Network(input_length=2, output_length=2, lr=1)"
   ]
  },
  {
   "cell_type": "code",
   "execution_count": null,
   "metadata": {},
   "outputs": [],
   "source": [
    "# Before training, the decision boundary is fuzzy and random\n",
    "plt.imshow(plotgrid(network.forward, dr=0))"
   ]
  },
  {
   "cell_type": "code",
   "execution_count": null,
   "metadata": {},
   "outputs": [],
   "source": [
    "for e in range(1000):\n",
    "    i = np.random.randint(0, len(data))\n",
    "    out = network.forward(data[i])\n",
    "    network.backward(-(targets[i]-out))\n",
    "total = len(data)\n",
    "good = 0\n",
    "for i in range(len(data)):\n",
    "    out = np.argmax(network.forward(data[i]))\n",
    "    if out == np.argmax(targets[i]):\n",
    "        good += 1\n",
    "\n",
    "print(\"Correct predicted: \", 1.0*good/total)\n",
    "plt.imshow(plotgrid(network.forward, dr=0))"
   ]
  }
 ],
 "metadata": {
  "kernelspec": {
   "display_name": "torch",
   "language": "python",
   "name": "python3"
  },
  "language_info": {
   "codemirror_mode": {
    "name": "ipython",
    "version": 3
   },
   "file_extension": ".py",
   "mimetype": "text/x-python",
   "name": "python",
   "nbconvert_exporter": "python",
   "pygments_lexer": "ipython3",
   "version": "3.11.5"
  }
 },
 "nbformat": 4,
 "nbformat_minor": 2
}
