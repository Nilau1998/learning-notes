{
 "cells": [
  {
   "cell_type": "markdown",
   "metadata": {},
   "source": [
    "# Multilayer Perceptron\n"
   ]
  },
  {
   "cell_type": "code",
   "execution_count": null,
   "metadata": {},
   "outputs": [],
   "source": [
    "import numpy as np\n",
    "import matplotlib.pyplot as plt"
   ]
  },
  {
   "cell_type": "markdown",
   "metadata": {},
   "source": [
    "Multilayer Perceptron is a type of artificial neural network that consists of multiple layers of interconnected nodes, called neurons. It is a feedforward neural network, meaning that the information flows in one direction, from the input layer to the output layer.\n",
    "\n",
    "MLPs are widely used in various machine learning tasks, such as classification, regression, and pattern recognition. It is known for its ability to learn complex patterns and make accurate predictions.\n",
    "\n",
    "The MLP uses a supervised learning technique called backpropagation for training. In backpropagation, the error is calculated between the predicted and actual output, and this error is propagated back through the network, starting from the output layer to the hidden layer(s), to adjust the weights for the next iteration."
   ]
  },
  {
   "cell_type": "code",
   "execution_count": null,
   "metadata": {},
   "outputs": [],
   "source": [
    "# Plot the decision boundary of a classifier, you can ignore this function\n",
    "def plotgrid(f, dr=0):\n",
    "    result = np.zeros((100, 100))\n",
    "    for i in range(100):\n",
    "        for j in range(100):\n",
    "            x = np.array([i/100.0, j/100.0])\n",
    "            z = f(x)\n",
    "            if dr == 0:\n",
    "                z /= sum(z)\n",
    "                result[i, j] = z[1]\n",
    "            else:\n",
    "                result[i, j] = np.argmax(z)\n",
    "    return result.T[::-1]"
   ]
  },
  {
   "cell_type": "markdown",
   "metadata": {},
   "source": [
    "## Fully Connected Feed-Forward Network\n",
    "\n",
    "The layers of an MLP typically include:\n",
    "\n",
    "1. Input Layer: This is where the model receives its input features. Each node in this layer represents one feature.\n",
    "2. Hidden Layer(s): These are layers between the input and output layers where the actual processing happens via a system of weighted 'connections'. The most important aspect of the MLP is that these layers are \"hidden\", meaning their values are not observable in the training set. Each node in these layers uses a nonlinear activation function, which allows the MLP to capture complex patterns.\n",
    "3. Output Layer: This layer produces the final predictions of the model. The activation function used in this layer depends on the nature of the problem. For example, for a binary classification problem (our problem), a sigmoid function can be used.\n"
   ]
  },
  {
   "cell_type": "markdown",
   "metadata": {},
   "source": [
    "### Mathematics Background\n",
    "\n",
    "In a neural network, each layer consists of multiple neurons, and each neuron is connected to all neurons from the previous layer. The input to a neuron is a weighted sum of the outputs of the neurons from the previous layer. If we consider all neurons in a layer, this operation can be represented as a matrix multiplication. The matrix contains the weights of the connections between the neurons in the current layer and the previous layer. The input data is multiplied by this weight matrix to give the initial output for each neuron in the current layer.\n",
    "\n",
    "$$ y = f(X * W) $$\n",
    "\n",
    "Real-world data is often complex and non-linear. Activation functions introduce non-linearity into the network, allowing it to learn and model these complex patterns. Without an activation function, no matter how many layers the network has, it would still behave like a single-layer model because the composition of linear functions is still a linear function.\n",
    "\n",
    "In our example, three types of activation functions are depicted:\n",
    "1. Identity: This is a linear function where the output is the same as the input. It is used when we want to model a linear relationship. `activation==None`\n",
    "2. ReLU: This function outputs the input directly if it's positive; otherwise, it outputs zero. It's widely used in deep learning models because it helps the model to train faster without sacrificing much accuracy.\n",
    "3. Sigmoid: This function maps the input values into a range between 0 and 1, making it useful for outputting probabilities in binary classification problems.\n",
    "\n",
    "We will look at them later separately!"
   ]
  },
  {
   "cell_type": "code",
   "execution_count": null,
   "metadata": {},
   "outputs": [],
   "source": [
    "class FCLayer:\n",
    "    def __init__(self, input_size, output_size, activation=None):\n",
    "        self.relu = activation == 'relu'\n",
    "        self.sigmoid = activation == 'sigmoid'\n",
    "        self.weights = np.random.randn(\n",
    "            input_size, output_size) / np.sqrt(input_size)\n",
    "        self.weight_update = np.zeros_like(self.weights)\n",
    "\n",
    "    def forward(self, input):\n",
    "        self.input = input.copy()\n",
    "        self.y = np.dot(self.input, self.weights)\n",
    "        if self.relu:\n",
    "            self.y[self.y < 0] = 0\n",
    "        if self.sigmoid:\n",
    "            self.y = 1.0 / (1.0 + np.exp(-self.y))\n",
    "        return self.y\n",
    "\n",
    "    def backward(self, grad, _):\n",
    "        if self.relu:\n",
    "            grad[self.y <= 0] = 0\n",
    "        if self.sigmoid:\n",
    "            grad = grad * self.y * (1 - self.y)\n",
    "        self.weight_update += np.outer(self.input, grad)\n",
    "        return np.dot(grad, self.weights.T)\n",
    "\n",
    "    def update_weights(self, learning_rate):\n",
    "        self.weights -= learning_rate * self.weight_update\n",
    "        self.weight_update = np.zeros_like(self.weights)\n",
    "\n",
    "\n",
    "class Network:\n",
    "    def __init__(self, topology, learning_rate):\n",
    "        self.learning_rate = learning_rate\n",
    "        self.topology = topology\n",
    "\n",
    "    def update_weights(self):\n",
    "        for layer in self.topology:\n",
    "            layer.update_weights(self.learning_rate)\n",
    "\n",
    "    def forward(self, x):\n",
    "        for layer in self.topology:\n",
    "            x = layer.forward(x)\n",
    "        return x\n",
    "\n",
    "    def backward(self, x, y):\n",
    "        for layer in self.topology:\n",
    "            x = layer.forward(x)\n",
    "        for layer in reversed(self.topology):\n",
    "            y = layer.backward(y, self.learning_rate)\n",
    "\n",
    "\n",
    "network = Network(\n",
    "    topology=[\n",
    "        # Input Layer\n",
    "        FCLayer(2, 5, activation='relu'),\n",
    "        # Output Layer\n",
    "        FCLayer(5, 2, activation='sigmoid')\n",
    "    ],\n",
    "    learning_rate=1)"
   ]
  },
  {
   "cell_type": "markdown",
   "metadata": {},
   "source": [
    "## Binary Classification\n",
    "\n",
    "We generate randomly a synthetic dataset suitable for a binary classification problem.\n",
    "It consists of 100 2D samples. The optimal decision boundary is given by the equation:\n",
    "\n",
    "$$ y = x - 0.3 $$"
   ]
  },
  {
   "cell_type": "code",
   "execution_count": null,
   "metadata": {},
   "outputs": [],
   "source": [
    "def random_data():\n",
    "    data = np.random.random_sample((100, 2))\n",
    "    labels = (data[:, 0]-data[:, 1] < 0.3)\n",
    "\n",
    "    d0 = data[labels == False]\n",
    "    d1 = data[labels]\n",
    "\n",
    "    targets = np.array([labels, 1-labels]).T\n",
    "    return data, targets, labels, d0, d1\n",
    "\n",
    "data, targets, labels, d0, d1 = random_data()\n",
    "plt.plot(d0[:, 0], d0[:, 1], \"bo\")\n",
    "plt.plot(d1[:, 0], d1[:, 1], \"ro\")\n",
    "\n",
    "# Plot the decision boundary of a classifier: y = x - 0.3\n",
    "x = np.linspace(0.3, 1, 2)\n",
    "y = x - 0.3\n",
    "plt.plot(x, y)"
   ]
  },
  {
   "cell_type": "code",
   "execution_count": null,
   "metadata": {},
   "outputs": [],
   "source": [
    "# Before training, the decision boundary is fuzzy and random\n",
    "plt.imshow(plotgrid(network.forward, dr=0))"
   ]
  },
  {
   "cell_type": "markdown",
   "metadata": {},
   "source": [
    "### Training\n",
    "\n",
    "The optimization of neural networks is called training and the algorithm is called backpropagation:\n",
    "\n",
    "1. Forward Pass: The network makes a prediction based on the current weights. This prediction is compared to the actual output, and the difference is measured using a loss function. The goal is to minimize this loss.\n",
    "\n",
    "2. Backward Pass (Backpropagation): In this step, the algorithm calculates how much each weight contributed to the loss, starting from the output layer and moving back towards the input layer. This is done by applying the chain rule of calculus to compute gradients (partial derivatives) of the loss function with respect to the weights and biases.\n",
    "\n",
    "Once these gradients are known, the weights are updated in a way that reduces the loss. This is typically done using an optimization algorithm like gradient descent.\n",
    "\n",
    "In simple terms, backpropagation is like a student learning from their mistakes. After answering a question (forward pass), the student checks their answer against the correct one. If the answer is wrong, the student reviews their solution to understand where they made a mistake (backward pass) and then corrects it. This process is repeated until the student is able to answer the question correctly.\n",
    "\n",
    "In our example, we optimize the Mean Squared Error\n",
    "\n",
    "$$ MSE = \\frac{1}{2}(y - y_t)^2  $$\n"
   ]
  },
  {
   "cell_type": "code",
   "execution_count": null,
   "metadata": {},
   "outputs": [],
   "source": [
    "# Training\n",
    "for e in range(1000):\n",
    "    i = np.random.randint(0, len(data))\n",
    "    out = network.forward(data[i])\n",
    "    # We divide by 2 to make the derivative of the loss easier\n",
    "    # Loss = 1/2(target - output)^2\n",
    "    # dLoss/dOutput = -(target - output)\n",
    "    network.backward(data[i], -(targets[i]-out))\n",
    "    network.update_weights()\n",
    "\n",
    "correct = 0\n",
    "for i in range(len(data)):\n",
    "    out = np.argmax(network.forward(data[i]))\n",
    "    if out == np.argmax(targets[i]):\n",
    "        correct += 1\n",
    "\n",
    "print(\"Correct predicted: \", 1.0 * correct /len(data))\n",
    "plt.imshow(plotgrid(network.forward, dr=0))"
   ]
  },
  {
   "cell_type": "markdown",
   "metadata": {},
   "source": [
    "Toy around with the parameters. See how the network behaves, if you adapt the activation functions.\n",
    "Check what happens when you tweak the number of epochs."
   ]
  },
  {
   "cell_type": "markdown",
   "metadata": {},
   "source": [
    "## Activation Functions"
   ]
  },
  {
   "cell_type": "code",
   "execution_count": null,
   "metadata": {},
   "outputs": [],
   "source": [
    "def identity(x):\n",
    "    return x\n",
    "\n",
    "def relu(x):\n",
    "    return np.maximum(0, x)\n",
    "\n",
    "def sigmoid(x):\n",
    "    return 1.0 / (1.0 + np.exp(-x))\n",
    "\n",
    "x = np.linspace(-10, 10, 100)\n",
    "\n",
    "_, axs = plt.subplots(1, 3, figsize=(15, 5))\n",
    "axs[0].plot(x, identity(x))\n",
    "axs[0].set_title('Identity')\n",
    "\n",
    "axs[1].plot(x, relu(x))\n",
    "axs[1].set_title('ReLu')\n",
    "\n",
    "axs[2].plot(x, sigmoid(x))\n",
    "axs[2].set_title('Sigmoid')"
   ]
  },
  {
   "cell_type": "code",
   "execution_count": null,
   "metadata": {},
   "outputs": [],
   "source": []
  }
 ],
 "metadata": {
  "kernelspec": {
   "display_name": "torch",
   "language": "python",
   "name": "python3"
  },
  "language_info": {
   "codemirror_mode": {
    "name": "ipython",
    "version": 3
   },
   "file_extension": ".py",
   "mimetype": "text/x-python",
   "name": "python",
   "nbconvert_exporter": "python",
   "pygments_lexer": "ipython3",
   "version": "3.11.5"
  }
 },
 "nbformat": 4,
 "nbformat_minor": 2
}
