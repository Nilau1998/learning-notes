{
 "cells": [
  {
   "cell_type": "markdown",
   "metadata": {},
   "source": [
    "# Multilayer Perceptron\n"
   ]
  },
  {
   "cell_type": "code",
   "execution_count": null,
   "metadata": {},
   "outputs": [],
   "source": [
    "import numpy as np\n",
    "import matplotlib.pyplot as plt"
   ]
  },
  {
   "cell_type": "markdown",
   "metadata": {},
   "source": [
    "Multilayer Perceptron is a type of artificial neural network that consists of multiple layers of interconnected nodes, called neurons. It is a feedforward neural network, meaning that the information flows in one direction, from the input layer to the output layer.\n",
    "\n",
    "MLP is widely used in various machine learning tasks, such as classification, regression, and pattern recognition. It is known for its ability to learn complex patterns and make accurate predictions.\n"
   ]
  },
  {
   "cell_type": "code",
   "execution_count": null,
   "metadata": {},
   "outputs": [],
   "source": [
    "# Plot the decision boundary of a classifier\n",
    "# Not really important for the course\n",
    "def plotgrid(f, dr=0):\n",
    "    result = np.zeros((100, 100))\n",
    "    for i in range(100):\n",
    "        for j in range(100):\n",
    "            x = np.array([i/100.0, j/100.0])\n",
    "            z = f(x)\n",
    "            if dr == 0:\n",
    "                z /= sum(z)\n",
    "                result[i, j] = z[1]\n",
    "            else:\n",
    "                result[i, j] = np.argmax(z)\n",
    "    return result.T[::-1]"
   ]
  },
  {
   "cell_type": "code",
   "execution_count": null,
   "metadata": {},
   "outputs": [],
   "source": [
    "def random_data():\n",
    "    data = np.random.random_sample((100, 2))\n",
    "    labels = (data[:, 0]-data[:, 1] < 0.3)\n",
    "\n",
    "    d0 = data[labels == False]\n",
    "    d1 = data[labels]\n",
    "\n",
    "    targets = np.array([labels, 1-labels]).T\n",
    "    return data, targets, labels, d0, d1"
   ]
  },
  {
   "cell_type": "code",
   "execution_count": null,
   "metadata": {},
   "outputs": [],
   "source": [
    "data, targets, labels, d0, d1 = random_data()\n",
    "plt.plot(d0[:, 0], d0[:, 1], \"bo\")\n",
    "plt.plot(d1[:, 0], d1[:, 1], \"ro\")"
   ]
  },
  {
   "cell_type": "markdown",
   "metadata": {},
   "source": [
    "## Fully Connected Feed-Forward Network"
   ]
  },
  {
   "cell_type": "code",
   "execution_count": null,
   "metadata": {},
   "outputs": [],
   "source": [
    "class FCLayer:\n",
    "    def __init__(self, output_size, input_size, activation=None):\n",
    "        self.relu = activation == 'relu'\n",
    "        self.sigmoid = activation == 'sigmoid'\n",
    "        self.weights = np.random.randn(\n",
    "            output_size, input_size) / np.sqrt(input_size)\n",
    "        self.weight_update = np.zeros_like(self.weights)\n",
    "\n",
    "    def forward(self, input):\n",
    "        self.input = input.copy()\n",
    "        self.y = np.dot(self.weights, self.input)\n",
    "        if self.relu:\n",
    "            self.y[self.y < 0] = 0\n",
    "        if self.sigmoid:\n",
    "            self.y = 1.0 / (1.0 + np.exp(-self.y))\n",
    "        return self.y\n",
    "\n",
    "    def backward(self, grad, _):\n",
    "        if self.relu:\n",
    "            grad[self.y <= 0] = 0\n",
    "        if self.sigmoid:\n",
    "            grad = grad * self.y * (1 - self.y)\n",
    "        self.weight_update += np.outer(grad, self.input)\n",
    "        return np.dot(self.weights.T, grad)\n",
    "\n",
    "    def update_weights(self, learning_rate):\n",
    "        self.weights -= learning_rate * self.weight_update\n",
    "        self.weight_update = np.zeros_like(self.weights)\n",
    "\n",
    "\n",
    "class Network:\n",
    "    def __init__(self, topology, learning_rate):\n",
    "        self.learning_rate = learning_rate\n",
    "        self.topology = topology\n",
    "\n",
    "    def update_weights(self):\n",
    "        for layer in self.topology:\n",
    "            layer.update_weights(self.learning_rate)\n",
    "\n",
    "    def forward(self, x):\n",
    "        for layer in self.topology:\n",
    "            x = layer.forward(x)\n",
    "        return x\n",
    "\n",
    "    def backward(self, x, y):\n",
    "        for layer in self.topology:\n",
    "            x = layer.forward(x)\n",
    "        for layer in reversed(self.topology):\n",
    "            y = layer.backward(y, self.learning_rate)\n",
    "\n",
    "\n",
    "network = Network(\n",
    "    topology=[\n",
    "        FCLayer(5, 2, activation='relu'),\n",
    "        FCLayer(2, 5, activation='sigmoid')\n",
    "    ],\n",
    "    learning_rate=1)"
   ]
  },
  {
   "cell_type": "code",
   "execution_count": null,
   "metadata": {},
   "outputs": [],
   "source": [
    "# Before training, the decision boundary is fuzzy and random\n",
    "plt.imshow(plotgrid(network.forward, dr=0))"
   ]
  },
  {
   "cell_type": "code",
   "execution_count": null,
   "metadata": {},
   "outputs": [],
   "source": [
    "for e in range(1000):\n",
    "    i = np.random.randint(0, len(data))\n",
    "    out = network.forward(data[i])\n",
    "    # We divide by 2 to make the derivative of the loss easier\n",
    "    # Loss = 1/2(target - output)^2\n",
    "    # dLoss/dOutput = -(target - output)\n",
    "    network.backward(data[i], -(targets[i]-out))\n",
    "    network.update_weights()\n",
    "\n",
    "correct = 0\n",
    "for i in range(len(data)):\n",
    "    out = np.argmax(network.forward(data[i]))\n",
    "    if out == np.argmax(targets[i]):\n",
    "        correct += 1\n",
    "\n",
    "print(\"Correct predicted: \", 1.0 * correct /len(data))\n",
    "plt.imshow(plotgrid(network.forward, dr=0))"
   ]
  },
  {
   "cell_type": "markdown",
   "metadata": {},
   "source": [
    "## Tasks\n",
    "\n",
    "Toy around with the parameters. See how the network behaves, if you adapt the activation functions.\n",
    "Check what happens when you tweak the number of epochs."
   ]
  }
 ],
 "metadata": {
  "kernelspec": {
   "display_name": "torch",
   "language": "python",
   "name": "python3"
  },
  "language_info": {
   "codemirror_mode": {
    "name": "ipython",
    "version": 3
   },
   "file_extension": ".py",
   "mimetype": "text/x-python",
   "name": "python",
   "nbconvert_exporter": "python",
   "pygments_lexer": "ipython3",
   "version": "3.11.5"
  }
 },
 "nbformat": 4,
 "nbformat_minor": 2
}
