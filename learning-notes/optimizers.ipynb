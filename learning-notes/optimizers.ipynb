{
 "cells": [
  {
   "cell_type": "markdown",
   "metadata": {},
   "source": [
    "# Optimizers\n",
    "\n",
    "In this sheet we will look at three different optimizers and their behavior."
   ]
  },
  {
   "cell_type": "code",
   "execution_count": null,
   "metadata": {},
   "outputs": [],
   "source": [
    "import numpy as np\n",
    "import matplotlib.pyplot as plt\n",
    "\n",
    "def f(x):\n",
    "    return x**2\n",
    "\n",
    "def df(x):\n",
    "    return 2*x\n",
    "\n",
    "def g(x):\n",
    "    return 1/3*x**3\n",
    "\n",
    "def dg(x):\n",
    "    return x**2"
   ]
  },
  {
   "cell_type": "code",
   "execution_count": null,
   "metadata": {},
   "outputs": [],
   "source": [
    "def vanilla_gd(x_start, learning_rate, epochs, d = df):\n",
    "    x = [x_start]\n",
    "    for _ in range(epochs):\n",
    "        grad = d(x[-1])\n",
    "        # The adjustment of the parameter is the same for all parameters\n",
    "        x.append(x[-1] - learning_rate * grad)\n",
    "    return x\n",
    "\n",
    "def adagrad(x_start, learning_rate, epochs, d = df):\n",
    "    x = [x_start]\n",
    "    grad_squared_sum = 0\n",
    "    for _ in range(epochs):\n",
    "        grad = d(x[-1])\n",
    "        # The adjustment of the parameter depends on the size of the gradient\n",
    "        # If the gradient is large, the adjustment is small\n",
    "        # In a sense, each parameter has its own learning rate\n",
    "        grad_squared_sum += grad**2\n",
    "        x.append(x[-1] - learning_rate / (np.sqrt(grad_squared_sum) + 1e-7) * grad)\n",
    "    return x\n",
    "\n",
    "def rmsprop(x_start, learning_rate, decay_rate, epochs, d = df):\n",
    "    x = [x_start]\n",
    "    grad_squared_sum = 0\n",
    "    for _ in range(epochs):\n",
    "        grad = d(x[-1])\n",
    "        # The adjustment of the parameter depends on the size of the gradient\n",
    "        # The decay rate is used to control the influence of the past gradients\n",
    "        # The bigger the decay rate, the less the past gradients influence the adjustment\n",
    "        grad_squared_sum = decay_rate * grad_squared_sum + (1 - decay_rate) * grad**2\n",
    "        x.append(x[-1] - learning_rate / (np.sqrt(grad_squared_sum) + 1e-7) * grad)\n",
    "    return x"
   ]
  },
  {
   "cell_type": "markdown",
   "metadata": {},
   "source": []
  },
  {
   "cell_type": "code",
   "execution_count": null,
   "metadata": {},
   "outputs": [],
   "source": [
    "x_start = 5\n",
    "learning_rate = 0.1\n",
    "epochs = 100\n",
    "\n",
    "x_vanilla = vanilla_gd(x_start, learning_rate, epochs)\n",
    "x_adagrad = adagrad(x_start, learning_rate, epochs)\n",
    "x_rmsprop = rmsprop(x_start, learning_rate, 0.9, epochs)\n",
    "\n",
    "print(f\"Vanilla gradient descent: start at {x_start}, end at {x_vanilla[-1]}, f(x) = {f(x_vanilla[-1])}\")\n",
    "print(f\"Adagrad: start at {x_start}, end at {x_adagrad[-1]}, f(x) = {f(x_adagrad[-1])}\")\n",
    "print(f\"RMSprop: start at {x_start}, end at {x_rmsprop[-1]}, f(x) = {f(x_rmsprop[-1])}\")"
   ]
  },
  {
   "cell_type": "code",
   "execution_count": null,
   "metadata": {},
   "outputs": [],
   "source": [
    "plt.plot(x_vanilla, label=\"Vanilla GD\")\n",
    "plt.plot(x_adagrad, label=\"Adagrad\")\n",
    "plt.plot(x_rmsprop, label=\"RMSprop\")\n",
    "plt.xlabel(\"Epochs\")\n",
    "plt.ylabel(\"x\")\n",
    "plt.legend()"
   ]
  },
  {
   "cell_type": "code",
   "execution_count": null,
   "metadata": {},
   "outputs": [],
   "source": [
    "for i in [0.999, 0.9]:\n",
    "    _ = rmsprop(x_start, learning_rate, i, epochs)\n",
    "    plt.plot(_, label=f\"RMSprop decay rate {i}\")\n",
    "plt.legend()\n",
    "plt.xlabel(\"Epochs\")\n",
    "plt.ylabel(\"x\")"
   ]
  },
  {
   "cell_type": "markdown",
   "metadata": {},
   "source": [
    "## Vanilla Gradient descent"
   ]
  },
  {
   "cell_type": "markdown",
   "metadata": {},
   "source": [
    "$$\n",
    "\\theta_{t+1, i} = \\theta_{t, i} - \\eta g_{t, i}\n",
    "$$\n",
    "\n",
    "* $\\theta_{t+1, i}$ represents the updated value of the parameter $\\theta_i$ at time step $t+1$.\n",
    "* $\\theta_{t, i}$ represents the current value of the parameter $\\theta_i$ at time step $t$.\n",
    "* $\\eta$ is the learning rate.\n",
    "* $g_{t, i}$ represents the gradient of the loss function with respect to the parameter $\\theta_i$ at time step $t$."
   ]
  },
  {
   "cell_type": "code",
   "execution_count": null,
   "metadata": {},
   "outputs": [],
   "source": [
    "epochs = 2000\n",
    "for d in [df, dg]:\n",
    "    for s in [5, 10, 20]:\n",
    "        _ = vanilla_gd(s, 1e-3, epochs, d)\n",
    "        plt.plot(_, label=f\"Vanilla GD start at {s} {d.__name__}\")\n",
    "plt.legend()\n",
    "\n",
    "print('Exploding gradients:', vanilla_gd(5, 0.3, 10, dg)[-5:])"
   ]
  },
  {
   "cell_type": "markdown",
   "metadata": {},
   "source": [
    "Notice, that we have reduced the learning rate for the plots. If we would keep the learning rate, the learning rates would become so big, that they become out of bounds. This is called the **exploding gradients** problem. Vice versa, it is also possible to receive **vanishing gradients** which do not contribute anymore."
   ]
  },
  {
   "cell_type": "markdown",
   "metadata": {},
   "source": [
    "## Adagrad"
   ]
  },
  {
   "cell_type": "markdown",
   "metadata": {},
   "source": [
    "$$\n",
    "\\theta_{t+1, i} = \\theta_{t, i} - \\frac{\\eta}{\\sqrt{G_{t, ii} + \\epsilon}}g_{t, i}\n",
    "$$\n",
    "\n",
    "* $\\theta_{t+1, i}$ represents the updated value of the parameter $\\theta_i$ at time step $t+1$.\n",
    "* $\\theta_{t, i}$ represents the current value of the parameter $\\theta_i$ at time step $t$.\n",
    "* $\\eta$ is the learning rate.\n",
    "* $G_{t, ii}$ represents the cumulative sum of squared gradients for the parameter $\\theta_i$ up to time step $t$.\n",
    "* $g_{t, i}$ represents the gradient of the loss function with respect to the parameter $\\theta_i$ at time step $t$.\n",
    "* $\\epsilon$ is a small constant (usually added for numerical stability)."
   ]
  },
  {
   "cell_type": "code",
   "execution_count": null,
   "metadata": {},
   "outputs": [],
   "source": [
    "epochs = 100000\n",
    "for d in [df, dg]:\n",
    "    for s in [5, 10, 15]:\n",
    "        _ = adagrad(s, learning_rate, epochs, d)\n",
    "        plt.plot(_, label=f\"Adagrad start at {s} {d.__name__}\")\n",
    "plt.legend()"
   ]
  },
  {
   "cell_type": "markdown",
   "metadata": {},
   "source": [
    "Adagrad has been developed to adjust the learning rate parameter during training automatically. We can maintain our normal learning rate, as it is adjusted automatically. Unfortunately, is is not guaranteed, that Adagrad converges. Then the accumulated gradient becomes too big, the effective learning rate is reduced to 0. This can be seen in the the graph above for the **dg** function."
   ]
  },
  {
   "cell_type": "markdown",
   "metadata": {},
   "source": [
    "## RMSProp"
   ]
  },
  {
   "cell_type": "markdown",
   "metadata": {},
   "source": [
    "$$ \\theta_{t+1, i} = \\theta_{t, i} - \\frac{\\eta}{\\sqrt{E[g^2]t + \\epsilon}} g_{t, i} $$\n",
    "\n",
    "* $\\theta_{t+1, i}$ represents the updated value of the parameter $\\theta_i$ at time step $t+1$.\n",
    "* $\\theta_{t, i}$ represents the current value of the parameter $\\theta_i$ at time step $t$.\n",
    "* $\\eta$ is the learning rate.\n",
    "* $E[g^2]_t$ represents the moving average of squared gradients for the parameter $\\theta_i$ up to time step $t$.\n",
    "* $g_{t, i}$ represents the gradient of the loss function with respect to the parameter $\\theta_i$ at time step $t$.\n",
    "* $\\epsilon$ is a small constant (usually added for numerical stability)."
   ]
  },
  {
   "cell_type": "code",
   "execution_count": null,
   "metadata": {},
   "outputs": [],
   "source": [
    "epochs = 300\n",
    "for d in [df, dg]:\n",
    "    for s in [5, 10, 20]:\n",
    "        _ = rmsprop(s, learning_rate, 0.9, epochs, d)\n",
    "        plt.plot(_, label=f\"RMSprop start at {s} {d.__name__}\")\n",
    "plt.legend()"
   ]
  },
  {
   "cell_type": "markdown",
   "metadata": {},
   "source": [
    "RMSProp is developed based on Adagrad. The gradients converge correctly. Past gradients are taken into account as with adagrad, but their influence is reduced over time."
   ]
  },
  {
   "cell_type": "markdown",
   "metadata": {},
   "source": [
    "## Adam\n",
    "\n",
    "Adam is the best of both worlds, it combines Adagrad and RMSProp.\n",
    "\n",
    "* Like RMSProp, Adam maintains a moving average of squared gradients.\n",
    "* Like AdaGrad, it adapts the learning rate for each parameter.\n",
    "* Additionally, Adam incorporates momentum by keeping track of the moving average of gradients and the squared gradients."
   ]
  },
  {
   "cell_type": "markdown",
   "metadata": {},
   "source": [
    "$$\n",
    "\\theta_{t+1, i} = \\theta_{t, i} - \\frac{\\eta}{\\sqrt{v_{\\text{hat}}} + \\epsilon} \\cdot m_{\\text{hat}}\n",
    "$$\n",
    "\n",
    "* $\\theta_{t+1, i}$ represents the updated value of the parameter $\\theta_i$ at time step $t+1$.\n",
    "* $\\theta_{t, i}$ represents the current value of the parameter $\\theta_i$ at time step $t$.\n",
    "* $\\eta$ is the learning rate.\n",
    "* $v_{\\text{hat}}$ represents the moving average of squared gradients for the parameter $\\theta_i$ up to time step $t$.\n",
    "* $m_{\\text{hat}}$ represents the bias-corrected moving average of gradients for the parameter $\\theta_i$ up to time step $t$.\n",
    "* $\\epsilon$ is a small constant (usually added for numerical stability).\n"
   ]
  },
  {
   "cell_type": "code",
   "execution_count": null,
   "metadata": {},
   "outputs": [],
   "source": [
    "# beta: The exponential decay rate for the first  and second moment estimates.\n",
    "def adam(x_start, learning_rate, beta1, beta2, epochs, d = df):\n",
    "    x = [x_start]\n",
    "    m = 0\n",
    "    v = 0\n",
    "    for i in range(epochs):\n",
    "        grad = d(x[-1])\n",
    "        # Moving window concept, as above\n",
    "        m = beta1 * m + (1 - beta1) * grad\n",
    "        v = beta2 * v + (1 - beta2) * grad**2\n",
    "        m_hat = m / (1 - beta1**(i+1))\n",
    "        v_hat = v / (1 - beta2**(i+1))\n",
    "        x.append(x[-1] - learning_rate / (np.sqrt(v_hat) + 1e-7) * m_hat)\n",
    "    return x"
   ]
  },
  {
   "cell_type": "code",
   "execution_count": null,
   "metadata": {},
   "outputs": [],
   "source": [
    "epochs = 1000\n",
    "for d in [df, dg]:\n",
    "    for s in [5, 10, 15]:\n",
    "        _ = adam(s, learning_rate, 0.9, 0.999, epochs, d)\n",
    "        plt.plot(_, label=f\"Adam start at {s} {d.__name__}\")\n",
    "plt.legend()"
   ]
  },
  {
   "cell_type": "markdown",
   "metadata": {},
   "source": [
    "## Summary of Optimizers\n",
    "\n",
    "In this notebook, we explored four different optimization algorithms: vanilla gradient descent, Adagrad, RMSProp, and Adam. Here are the key insights for each optimizer:\n",
    "\n",
    "### Vanilla Gradient Descent\n",
    "* Vanilla gradient descent is a basic optimization algorithm that updates the parameters in the opposite direction of the gradient.\n",
    "* It uses a fixed learning rate for all parameters.\n",
    "* It can suffer from the problem of exploding or vanishing gradients if the learning rate is not properly chosen.\n",
    "\n",
    "### Adagrad\n",
    "* Adagrad is an adaptive optimization algorithm that adjusts the learning rate for each parameter based on the historical gradients.\n",
    "* It accumulates the squared gradients and uses them to scale the learning rate.\n",
    "* It performs well on sparse datasets where some parameters are updated infrequently.\n",
    "* However, it may have difficulty converging if the accumulated gradients become too large.\n",
    "\n",
    "### RMSProp\n",
    "* RMSProp is an adaptive optimization algorithm that addresses the convergence issues of Adagrad.\n",
    "* It uses a moving average of squared gradients to adjust the learning rate for each parameter.\n",
    "* The decay rate controls the influence of past gradients on the adjustment.\n",
    "* It performs well in practice and is widely used in deep learning.\n",
    "\n",
    "### Adam\n",
    "* Adam combines the best features of RMSProp and momentum-based optimization.\n",
    "* It maintains both a moving average of gradients and a moving average of squared gradients.\n",
    "* It adapts the learning rate for each parameter based on these moving averages.\n",
    "* Adam is known for its good performance and fast convergence in many deep learning tasks."
   ]
  }
 ],
 "metadata": {
  "kernelspec": {
   "display_name": "torch",
   "language": "python",
   "name": "python3"
  },
  "language_info": {
   "codemirror_mode": {
    "name": "ipython",
    "version": 3
   },
   "file_extension": ".py",
   "mimetype": "text/x-python",
   "name": "python",
   "nbconvert_exporter": "python",
   "pygments_lexer": "ipython3",
   "version": "3.11.5"
  }
 },
 "nbformat": 4,
 "nbformat_minor": 2
}
