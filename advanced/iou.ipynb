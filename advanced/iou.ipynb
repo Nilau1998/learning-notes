{
 "cells": [
  {
   "cell_type": "code",
   "execution_count": 1,
   "metadata": {},
   "outputs": [],
   "source": [
    "import numpy as np"
   ]
  },
  {
   "cell_type": "code",
   "execution_count": 4,
   "metadata": {},
   "outputs": [
    {
     "name": "stdout",
     "output_type": "stream",
     "text": [
      "IoU: 0.40024989587671805\n"
     ]
    }
   ],
   "source": [
    "def calculate_iou(box1, box2):\n",
    "    # Calculate the coordinates of the intersection rectangle\n",
    "    x1 = max(box1[0], box2[0])\n",
    "    y1 = max(box1[1], box2[1])\n",
    "    x2 = min(box1[2], box2[2])\n",
    "    y2 = min(box1[3], box2[3])\n",
    "\n",
    "    # Calculate the area of intersection rectangle\n",
    "    intersection_area = max(0, x2 - x1 + 1) * max(0, y2 - y1 + 1)\n",
    "\n",
    "    # Calculate the area of both bounding boxes\n",
    "    box1_area = (box1[2] - box1[0] + 1) * (box1[3] - box1[1] + 1)\n",
    "    box2_area = (box2[2] - box2[0] + 1) * (box2[3] - box2[1] + 1)\n",
    "\n",
    "    # Calculate the IoU\n",
    "    iou = intersection_area / float(box1_area + box2_area - intersection_area)\n",
    "\n",
    "    return iou\n",
    "\n",
    "# Example usage\n",
    "box1 = np.array([10, 10, 50, 50])\n",
    "box2 = np.array([20, 20, 60, 60])\n",
    "iou = calculate_iou(box1, box2)\n",
    "print(\"IoU:\", iou)"
   ]
  }
 ],
 "metadata": {
  "kernelspec": {
   "display_name": "torch",
   "language": "python",
   "name": "python3"
  },
  "language_info": {
   "codemirror_mode": {
    "name": "ipython",
    "version": 3
   },
   "file_extension": ".py",
   "mimetype": "text/x-python",
   "name": "python",
   "nbconvert_exporter": "python",
   "pygments_lexer": "ipython3",
   "version": "3.11.5"
  }
 },
 "nbformat": 4,
 "nbformat_minor": 2
}
